{
 "cells": [
  {
   "cell_type": "code",
   "execution_count": 1,
   "metadata": {},
   "outputs": [
    {
     "data": {
      "application/vnd.jupyter.widget-view+json": {
       "model_id": "bb6e23e3b71b4d8aa9c88a6e6e10eb40",
       "version_major": 2,
       "version_minor": 0
      },
      "text/plain": [
       "interactive(children=(FloatSlider(value=10.0, description='Precio1', max=20.5, min=2.0, step=2.5), FloatSlider…"
      ]
     },
     "metadata": {},
     "output_type": "display_data"
    }
   ],
   "source": [
    "%matplotlib inline\n",
    "import numpy as np\n",
    "import matplotlib.pyplot as plt\n",
    "from ipywidgets import interact, fixed\n",
    "\n",
    "\n",
    "\n",
    "def U(A, B, alpha):\n",
    " return (A**alpha)*(B**(1-alpha))\n",
    "def budgetc(A, price1, price2, Bconst):\n",
    " return (Bconst/price2)-(price1/price2)*A\n",
    "def indif(A, mrs, alpha):\n",
    " return (mrs/(A**alpha))**(1/(1-alpha))\n",
    "def find_opt(price1,price2,Bconst,alpha):\n",
    " A = alpha * Bconst/price1\n",
    " B = (1-alpha)*Bconst/price2\n",
    " u = U(A,B,alpha)\n",
    " return A, B, u\n",
    "\n",
    "alpha = 0.5\n",
    "price1, price2 = 10, 10\n",
    "Bconst = 45\n",
    "alphamin, alphamax = 0, .99\n",
    "pmin, pmax = 2, 20.5\n",
    "BCmin, BCmax = 2, 60\n",
    "\n",
    "def consume_plot(Precio1 = price1, Precio2=price2, RestPresu =Bconst, Alpha=alpha):\n",
    "\n",
    " A = np.linspace(0.1,BCmax,num=100) #Rango curvas de indiferencia\n",
    " Ap, Bp, ubarp = find_opt(Precio1, Precio2, RestPresu, Alpha)\n",
    " budg = budgetc(A, Precio1, Precio2, RestPresu)\n",
    " idfc = indif(A, ubarp, Alpha)\n",
    " u1 = 1\n",
    " ubarind1 = ubarp + u1\n",
    " ubarind2 = ubarp - u1\n",
    " indcurves1 = indif(A, ubarind1, Alpha)\n",
    " indcurves2 = indif(A, ubarind2, Alpha)\n",
    "\n",
    " fig, ax = plt.subplots(figsize=(12,8))\n",
    " ax.plot(A, budg, lw=2.5)\n",
    " ax.plot(A, idfc, lw=2.5)\n",
    " ax.plot(A, indcurves1, lw=2.5)\n",
    " ax.plot(A, indcurves2, lw=2.5)\n",
    " ax.vlines(Ap,0,Bp, linestyles=\"dashed\") #Líneas punteadas\n",
    " ax.hlines(Bp,0,Ap, linestyles=\"dashed\") #Líneas punteadas\n",
    " ax.plot(Ap,Bp,'ob') #Punto azul\n",
    " ax.set_xlim(0, 15) #X\n",
    " ax.set_ylim(0, 15) #Y\n",
    " ax.set_xlabel(r'$A$', fontsize=16)#A\n",
    " ax.set_ylabel('$B$', fontsize=16) #B\n",
    " ax.grid() #Cuadriculado\n",
    " plt.show()\n",
    "    \n",
    "interact(consume_plot, Alpha=(alphamin,alphamax,0.01), Precio1=(pmin,pmax,2.5),Precio2=(pmin,pmax,2.5), RestPresu=(BCmin,BCmax,5));\n",
    "\n"
   ]
  },
  {
   "cell_type": "code",
   "execution_count": null,
   "metadata": {},
   "outputs": [],
   "source": []
  }
 ],
 "metadata": {
  "kernelspec": {
   "display_name": "Python 3",
   "language": "python",
   "name": "python3"
  },
  "language_info": {
   "codemirror_mode": {
    "name": "ipython",
    "version": 3
   },
   "file_extension": ".py",
   "mimetype": "text/x-python",
   "name": "python",
   "nbconvert_exporter": "python",
   "pygments_lexer": "ipython3",
   "version": "3.7.7"
  }
 },
 "nbformat": 4,
 "nbformat_minor": 4
}
